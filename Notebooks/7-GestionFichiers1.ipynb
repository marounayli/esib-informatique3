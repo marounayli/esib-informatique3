{
 "cells": [
  {
   "cell_type": "markdown",
   "metadata": {},
   "source": [
    "# Gestion de fichiers"
   ]
  },
  {
   "cell_type": "markdown",
   "metadata": {},
   "source": [
    "- Définition d’un fichier \n",
    "- Les 2 types de fichiers (texte et binaire)\n",
    "- Ouverture et lecture d'un un fichier texte\n",
    "- Ouverture et écriture dans un fichier texte\n",
    "- Ouverture et ajout de données à un fichier texte\n",
    "- Ouverture et manipulations d'un fichier binaire\n",
    "- Sauvegarde et lecture de données structurées"
   ]
  },
  {
   "cell_type": "markdown",
   "metadata": {},
   "source": [
    "### Définition d'un fichier :\n",
    "- Un fichier est une collection de données stockées sur une mémoire de masse appelée aussi mémoire secondaire (comme le disque dur) qui constitue un endroit fiable et permanent de stockage. Nous pourrons enregistrer les résultats obtenus par les programmes Python dans des fichiers pour les conserver pour une future utilisation. Nous pourrons utiliser l'information stockée dans des fichiers pour la présenter comme données aux programmes.\n",
    "\n",
    "### Fichier texte et fichier binaire\n",
    "- Dans un fichier texte, l'information est stockée sous forme de caractères lisibles par un éditeur de texte. Dans ce type de fichier, chaque ligne est terminée par un caractère spécial qui est le \"\\n\". \n",
    "\n",
    "- Dans un fichier binaire, on gère l'information telle qu'elle est stockée dans la mémoire sous forme binaire (une suite d'octets).\n"
   ]
  },
  {
   "cell_type": "markdown",
   "metadata": {},
   "source": [
    "### Ouverture d'un fichier texte\n",
    "\n",
    "Pour ouvrir un fichier on utilise la fonction \"f=open(filename,mode)\" qui prend 2 paramètres et retourne un objet de type \"TextIOWrapper\" qui fait référence au fichier. \n",
    "\n",
    "- filename : le chemin d'accès au fichier : \"C:\\users\\user\\documents\\pythondocs\\example1.txt\" ou bien \"example1.txt\" si on est dans le répertoire courant où le fichier se trouve.\n",
    "\n",
    "- mode : indique le mode d'accès au fichier. le mode d'accès définit aussi l'emplacement du curseur (File Handle) qui définit la place à partir de laquelle les données sont lues ou sauvegardées. On distingue les modes d'accès suivant :\n",
    "\n",
    "    - \"r\": mode lecteur seule. Utilisé pour lire les données présentes dans un fichier, le curseur est placé au début du fichier. Si le fichier est introuvable, une erreur de type FileNotFoundError est générée. C'est le mode utilisé par défaut.\n",
    "    - \"w\" : mode écriture seule. Utilisé pour sauvegarder les données dans ce fichier, le curseur est placé au début du fichier. Toute donnée existante dans le fichier sera écrasée. Le fichier est créé s'il n'existe pas.\n",
    "    - \"r+\" : mode lecture et écriture. Le curseur est placé au début du fichier. Si le fichier est introuvable, une erreur de type FileNotFoundError est générée. \n",
    "    - \"w+\" : mode écriture et lecture. Le curseur est placé au début du fichier. Le fichier est créé s'il n'existe pas \n",
    "    - \"a\" : mode écriture (ajout). Le fichier est créé s'il n'existe pas. Le curseur est positionné à la fin du fichier. Les données sauvegardées sont ajoutées à la fin.\n",
    "    - \"a+\": mode lecture et écriture (ajout). Le fichier est créé s'il n'existe pas. Le curseur est positionné à la fin du fichier. Les données sauvegardées sont ajoutées à la fin.\n",
    " \n",
    " \n",
    "- **Il ne faut pas oublier de fermer le fichier après utilisation pour libérer les ressources mémoires allouées. Il faut aussi fermer le fichier avant de l'ouvrir dans un autre mode. Pour fermer un fichier on fait f.close().**\n",
    "\n"
   ]
  },
  {
   "cell_type": "markdown",
   "metadata": {},
   "source": [
    "## Lecture d'un fichier texte (mode \"r\")\n",
    "\n",
    "Pour ouvrir un fichier texte en mode lecture seule, il suffit de faire : \"f=open(filename,'r')\" ou se contenter de faire \"f=open(filename)\". Il est très important de connaitre l'emplacement du fichier Python pour faire parvenir au programme son chemin d'accès complet. Pour cela, Il vaut mieux créer un dossier à l'intérieur duquel vous placez les fichiers texte manipulés. Après avoir créé le dossier on va y placer un fichier texte qui contient les noms de quelques villes et voir comment lire ce fichier à partir d'un programme Python. Mais avant il faut noter le chemin d'accès complet au fichier pour le donner au programme. Un chemin d'accès commence avec la lettre du disque dur, suivie par la suite des dossiers commençant par la racine du disque et séparés par \"double \\\\\" ou par \"/\" jusqu'à arriver au fichier."
   ]
  },
  {
   "cell_type": "code",
   "execution_count": null,
   "metadata": {},
   "outputs": [],
   "source": [
    "f=open(\"C:\\\\Users\\\\User\\\\Documents\\\\Fichiers\\\\villes.txt\",\"r\")\n",
    "s=f.read()\n",
    "print(s)\n",
    "f.close()\n"
   ]
  },
  {
   "cell_type": "markdown",
   "metadata": {},
   "source": [
    "On peut aussi utiliser la fonction chdir() du module \"os\" pour changer de dossier courant si on veut accéder à plusieurs fichiers placés dans ce dossier. La méthode \"os.getcwd()\" permet de retourner le dossier courant. Dans ce cas, on fait :"
   ]
  },
  {
   "cell_type": "code",
   "execution_count": null,
   "metadata": {},
   "outputs": [],
   "source": [
    "import os\n",
    "os.chdir(\"C:\\\\Users\\\\User\\\\Documents\\\\Fichiers\")\n",
    "print(os.getcwd())\n",
    "f=open(\"villes.txt\",\"w\")\n",
    "s=f.read()\n",
    "print(s)\n",
    "f.close()\n"
   ]
  },
  {
   "cell_type": "markdown",
   "metadata": {},
   "source": []
  },
  {
   "cell_type": "code",
   "execution_count": null,
   "metadata": {},
   "outputs": [],
   "source": [
    "import os\n",
    "os.chdir(\"C:\\\\Users\\\\User\\\\Documents\\\\Fichiers\")\n",
    "print(os.getcwd())\n",
    "try:\n",
    "  f=open(\"ville.txt\",\"r\")\n",
    "  s=f.read()\n",
    "  print(s)\n",
    "  f.close()\n",
    "except FileNotFoundError:\n",
    "  print(\"Fichier Introuvable\")"
   ]
  },
  {
   "cell_type": "markdown",
   "metadata": {},
   "source": [
    "Qu'est-ce qui se passe si on ouvre un fichier sans le fermer ? Tout d'abord, nous ne pouvons pas ouvrir ce fichier avec un autre mode. En plus, si on ouvre un grand nombre de fichiers, on risque d'avoir des problèmes de gestion de la mémoire en atteignant le nombre maximal de ressources allouées pour les fichiers. "
   ]
  },
  {
   "cell_type": "code",
   "execution_count": null,
   "metadata": {},
   "outputs": [],
   "source": [
    "files=[]\n",
    "for x in range(10000):\n",
    "    files.append(open('test{}.txt'.format(x),'w'))"
   ]
  },
  {
   "cell_type": "markdown",
   "metadata": {},
   "source": [
    "Pour cela, il est plus sûr d'utiliser les context Managers pour ouvrir les fichiers. Un context manager commence avec le mot with."
   ]
  },
  {
   "cell_type": "code",
   "execution_count": null,
   "metadata": {},
   "outputs": [],
   "source": [
    "import os\n",
    "os.chdir(\"C:\\\\Users\\\\User\\\\Documents\\\\Fichiers\")\n",
    "try:\n",
    "  with open(\"villes.txt\") as f:\n",
    "    s=f.read()\n",
    "    print(s)\n",
    "except FileNotFoundError:\n",
    "    print(\"Fichier Introuvable\")"
   ]
  },
  {
   "cell_type": "markdown",
   "metadata": {},
   "source": [
    "On met à l'intérieur du bloc with toutes les instructions qui permettent de manipuler ce fichier. A la sortie de ce bloc, le \n",
    "fichier est fermé automatiquement.\n"
   ]
  },
  {
   "cell_type": "markdown",
   "metadata": {},
   "source": [
    "Les méthodes utilisées pour lire un fichier :\n",
    "\n",
    "- read() : retourne tout le contenu du fichier dans un string quand aucun paramètre n'est passé à la méthode.\n",
    "- readlines() : retourne tout le contenu du fichier dans une liste où chaque élément est une ligne du fichier.\n",
    "- readline() : retourne une ligne du fichier. Au début, readline() lit la première ligne et met le curseur sur la ligne suivante. Quand la fin du fichier est atteint, cette méthode retourne une chaine vide."
   ]
  },
  {
   "cell_type": "code",
   "execution_count": null,
   "metadata": {},
   "outputs": [],
   "source": [
    "import os\n",
    "os.chdir(\"C:\\\\Users\\\\User\\\\Documents\\\\Fichiers1\")\n",
    "try:\n",
    "  with open(\"villes.txt\") as f:\n",
    "    liste=f.readlines()\n",
    "    print(liste)\n",
    "except FileNotFoundError:\n",
    "    print(\"Fichier Introuvable\")"
   ]
  },
  {
   "cell_type": "code",
   "execution_count": null,
   "metadata": {},
   "outputs": [],
   "source": [
    "import os\n",
    "os.chdir(\"C:\\\\Users\\\\User\\\\Documents\\\\Fichiers1\")\n",
    "try:\n",
    "  with open(\"villes.txt\") as f:\n",
    "    eof=False\n",
    "    while not eof:\n",
    "        line=f.readline()\n",
    "        if line:\n",
    "            print(line,end=\"\")\n",
    "        else:\n",
    "            eof=True\n",
    "    \n",
    "    \n",
    "except FileNotFoundError:\n",
    "    print(\"Fichier Introuvable\")"
   ]
  },
  {
   "cell_type": "markdown",
   "metadata": {},
   "source": [
    "On peut également itérer sur les lignes d'un fichier pour le lire :\n",
    "\n"
   ]
  },
  {
   "cell_type": "code",
   "execution_count": null,
   "metadata": {},
   "outputs": [],
   "source": [
    "import os\n",
    "os.chdir(\"C:\\\\Users\\\\User\\\\Documents\\\\Fichiers1\")\n",
    "try:\n",
    "  with open(\"villes.txt\") as f:\n",
    "    for line in f:\n",
    "        print(line)\n",
    "    \n",
    "    \n",
    "except FileNotFoundError:\n",
    "    print(\"Fichier Introuvable\")"
   ]
  },
  {
   "cell_type": "markdown",
   "metadata": {},
   "source": [
    "Lire un fichier texte caractère par caractère :\n",
    "En donnant à la méthode \"read()\", un argument, il sera considéré comme le nombre de caractères à lire. Au début, le curseur est placé au début du fichier, en faisant \"s=read(n)\" Les \"n\" caractères sont lus et retournés dans le string s, et le curseur est positionné avant le caractère \"n+1\". Exemple :\n"
   ]
  },
  {
   "cell_type": "code",
   "execution_count": null,
   "metadata": {},
   "outputs": [],
   "source": [
    "import os\n",
    "os.chdir(\"C:\\\\Users\\\\User\\\\Documents\\\\Fichiers1\")\n",
    "try:\n",
    "  with open(\"villes.txt\") as f:\n",
    "    s=f.read(5)\n",
    "    print(s)\n",
    "    s=f.read(5)\n",
    "    print(s)\n",
    "    \n",
    "    \n",
    "except FileNotFoundError:\n",
    "    print(\"Fichier Introuvable\")"
   ]
  },
  {
   "cell_type": "markdown",
   "metadata": {},
   "source": [
    "# Les méthodes \"seek()\" et \"tell()\"\n",
    "\n",
    "- La méthode \"seek(n-1)\" permet de positionner le curseur avant le caractère \"n\" en comptant toujours à partir du début du fichier.\n",
    "- La méthode \"tell()\" permet de retourner la position actuelle du curseur."
   ]
  },
  {
   "cell_type": "code",
   "execution_count": null,
   "metadata": {},
   "outputs": [],
   "source": [
    "import os\n",
    "os.chdir(\"C:\\\\Users\\\\User\\\\Documents\\\\Fichiers1\")\n",
    "try:\n",
    "  with open(\"villes.txt\") as f:\n",
    "    f.seek(0)\n",
    "    print(\"Curseur :\",f.tell())\n",
    "    s=f.read(6)\n",
    "    print(\"Curseur :\",f.tell())\n",
    "    print(s)\n",
    "    s=f.read(5)\n",
    "    print(s)\n",
    "    print(\"Curseur :\",f.tell())\n",
    "    \n",
    "    \n",
    "except FileNotFoundError:\n",
    "    print(\"Fichier Introuvable\")"
   ]
  },
  {
   "cell_type": "markdown",
   "metadata": {},
   "source": [
    "## Ecriture dans un fichier texte (mode \"w\")\n"
   ]
  },
  {
   "cell_type": "markdown",
   "metadata": {},
   "source": [
    "Les méthodes utilisées pour écrire dans un fichier :\n",
    "- La méthode \"write(s)\" permet d'écrire la chaine \"s\" dans le fichier à l'endroit du curseur\n",
    "- La méthode \"writelines(liste)\" permet d'écrire les éléments de la liste dans le fichier à l'endroit du curseur\n",
    "- Attention ! Il faut convertir les nombres en chaines de caractères avant de les écrire dans un fichier texte."
   ]
  },
  {
   "cell_type": "code",
   "execution_count": null,
   "metadata": {},
   "outputs": [],
   "source": [
    "import os\n",
    "os.chdir(\"C:\\\\Users\\\\User\\\\Documents\\\\Fichiers1\")\n",
    "with open(\"pays.txt\",\"w\") as f:\n",
    "        f.write(\"Liban\\n\")\n",
    "        f.write(\"France\\n\")\n",
    "        f.write(\"Angleterre\\n\")"
   ]
  },
  {
   "cell_type": "markdown",
   "metadata": {},
   "source": []
  },
  {
   "cell_type": "code",
   "execution_count": null,
   "metadata": {},
   "outputs": [],
   "source": [
    "import os\n",
    "os.chdir(\"C:\\\\Users\\\\User\\\\Documents\\\\Fichiers1\")\n",
    "with open(\"pays.txt\",\"w\") as f:\n",
    "        liste=[\"Liban\\n\",\"France\\n\",\"Espagne\\n\"]\n",
    "        f.writelines(liste)\n",
    "        "
   ]
  },
  {
   "cell_type": "markdown",
   "metadata": {},
   "source": [
    "Exercice 1 : Créer une liste dont les éléments sont des entiers générés aléatoirement entre 1 et 100. Sauvegarder ensuite cette liste dans un fichier texte :"
   ]
  },
  {
   "cell_type": "code",
   "execution_count": null,
   "metadata": {},
   "outputs": [],
   "source": [
    "import os\n",
    "from random import randint\n",
    "ls = []\n",
    "for i in range(10):\n",
    "    ls.append(str(randint(1,100)) + '\\n')\n",
    "    \n",
    "with open('RandomNumbers.txt', 'w') as f:\n",
    "    f.writelines(ls)\n",
    "        "
   ]
  },
  {
   "cell_type": "markdown",
   "metadata": {},
   "source": [
    "Exercice 2 : Ecricre un programme qui permet de lire un fichier contenant sur chaque ligne un nombre et d'en constituer une liste. "
   ]
  },
  {
   "cell_type": "code",
   "execution_count": null,
   "metadata": {},
   "outputs": [],
   "source": [
    "import os\n",
    "os.chdir(\"C:\\\\Users\\\\User\\\\Documents\\\\Fichiers1\")\n",
    "liste=[]\n",
    "with open('RandomNumbers.txt','r') as f:\n",
    "  for line in f :\n",
    "    liste.append(int(line))\n",
    "  \n",
    "print(liste)    "
   ]
  },
  {
   "cell_type": "markdown",
   "metadata": {},
   "source": [
    "## Ouverture d'un fichier en mode lecture+écriture (r+)"
   ]
  },
  {
   "cell_type": "code",
   "execution_count": null,
   "metadata": {},
   "outputs": [],
   "source": [
    "import os\n",
    "os.chdir(\"C:\\\\Users\\\\User\\\\Documents\\\\Fichiers1\")\n",
    "try:\n",
    "    with open(\"pays.txt\",\"r+\") as f:\n",
    "        s=f.read()\n",
    "        print(s)\n",
    "        f.write(\"\\nAllemagne\\n\")\n",
    "        f.seek(0)\n",
    "        s=f.read()\n",
    "        print(s)\n",
    "        \n",
    "except:\n",
    "    print(\"Introuvable\")"
   ]
  },
  {
   "cell_type": "markdown",
   "metadata": {},
   "source": [
    "## Ouverture d'un fichier en mode écriture+lecture (w+)"
   ]
  },
  {
   "cell_type": "code",
   "execution_count": null,
   "metadata": {},
   "outputs": [],
   "source": [
    "import os\n",
    "os.chdir(\"C:\\\\Users\\\\User\\\\Documents\\\\Fichiers1\")\n",
    "with open(\"pays2.txt\",\"w+\") as f:\n",
    "        s=f.write(\"Liban\")\n",
    "        f.seek(0)\n",
    "        s=f.read()\n",
    "        print(s)\n",
    "      \n"
   ]
  },
  {
   "cell_type": "markdown",
   "metadata": {},
   "source": [
    "## Ouverture d'un fichier en mode ajout (a) (écriture à la fin)"
   ]
  },
  {
   "cell_type": "code",
   "execution_count": null,
   "metadata": {},
   "outputs": [],
   "source": [
    "import os\n",
    "os.chdir(\"C:\\\\Users\\\\User\\\\Documents\\\\Fichiers1\")\n",
    "with open(\"pays2.txt\",\"a\") as f:\n",
    "        s=f.write(\"France\\n\")\n",
    "        \n",
    "      \n",
    "       \n",
    "       "
   ]
  },
  {
   "cell_type": "markdown",
   "metadata": {},
   "source": [
    "## Ouverture d'un fichier en mode ajout (a+) (lecture et écriture (ajout à la fin))"
   ]
  },
  {
   "cell_type": "code",
   "execution_count": null,
   "metadata": {},
   "outputs": [],
   "source": [
    "import os\n",
    "os.chdir(\"C:\\\\Users\\\\User\\\\Documents\\\\Fichiers1\")\n",
    "with open(\"pays2.txt\",\"a+\") as f:\n",
    "        s=f.write(\"\\nEtats-Unis\\n\")\n",
    "        f.seek(0)\n",
    "        print(f.read())"
   ]
  },
  {
   "cell_type": "markdown",
   "metadata": {},
   "source": [
    "Exercice 3 : Ecrire une fonction \"sans_commentaires(fsource, fdestination)\" qui permet de recopier le contenu d’un fichier texte (référencé par \"fsource\" supposant contenir du code Python dans un autre fichier référencé par \"fdestination\" en éliminant toutes les lignes de commentaires (qui commencent par le caractère #).\n"
   ]
  },
  {
   "cell_type": "code",
   "execution_count": null,
   "metadata": {},
   "outputs": [],
   "source": [
    "def sans_commentaires(fsource, fdestination):\n",
    "     for line in fsource:\n",
    "        if (line.strip())[0] !=\"#\": # si la ligne commence par des espaces\n",
    "           fdestination.write(line)        \n",
    "    \n",
    "\n",
    "import os\n",
    "os.chdir(\"C:\\\\Users\\\\User\\\\Documents\\\\Fichiers1\")    \n",
    "with open(\"fich1.txt\",\"r\") as f1:\n",
    "    with open(\"fich2.txt\",\"w\") as f2:\n",
    "        sans_commentaires(f1,f2)    "
   ]
  },
  {
   "cell_type": "markdown",
   "metadata": {},
   "source": [
    "Si on veut éliminer aussi les commentaires qui se trouvent à l'intérieur d'une ligne de code :"
   ]
  },
  {
   "cell_type": "code",
   "execution_count": null,
   "metadata": {},
   "outputs": [],
   "source": [
    "#Mira\n",
    "def sans_commentaires2(fsource,fdestination):\n",
    "    for line in fsource:\n",
    "         if \"#\" in line:\n",
    "            line=line.strip()    \n",
    "            i = line.index(\"#\")\n",
    "            if i!=0: \n",
    "              fdestination.write(line[:i]+\"\\n\")\n",
    "         elif \"#\" not in line:\n",
    "            fdestination.write(line)\n",
    "    \n",
    "import os\n",
    "os.chdir(\"C:\\\\Users\\\\User\\\\Documents\\\\Fichiers1\")                \n",
    "with open(\"fich11.txt\",\"r\") as f1:\n",
    "    with open(\"fich22.txt\", \"w\") as f2:\n",
    "        sans_commentaires2(f1,f2)"
   ]
  },
  {
   "cell_type": "markdown",
   "metadata": {},
   "source": [
    "Exercice 4 : Ecrire une fonction \"majuscules_mot(fsource,fdestination)\" qui permet de lire le fichier référencé par \"fsource\" et de créer un fichier référencé par \"fdestination\" en y écrivant le même texte mais en mettant les débuts des mots en majuscules (utiliser la méthode upper() de la classe str). \n",
    "\n"
   ]
  },
  {
   "cell_type": "code",
   "execution_count": null,
   "metadata": {},
   "outputs": [],
   "source": [
    "def majusculesMots(fsource,fdestination):\n",
    "    for line in fsource:\n",
    "        liste=line.split()\n",
    "        i=0\n",
    "        while i<len(liste):\n",
    "            liste[i]=liste[i][0].upper()+liste[i][1:]\n",
    "            line1=\" \".join(liste)\n",
    "            i+=1\n",
    "        if line[-1]==\"\\n\":\n",
    "           fdestination.write(line1+\"\\n\")\n",
    "        else:\n",
    "           fdestination.write(line1)  \n",
    "            \n",
    "            \n",
    "    \n",
    "    \n",
    "#programe principal\n",
    "import os\n",
    "os.chdir(\"C:\\\\Users\\\\User\\\\Documents\\\\Fichiers1\")       \n",
    "with open(\"fichier1.txt\",\"r\") as fsource:\n",
    "    with open(\"fichier2.txt\",\"w\") as fdestination:\n",
    "        majusculesMots(fsource,fdestination)"
   ]
  },
  {
   "cell_type": "code",
   "execution_count": null,
   "metadata": {},
   "outputs": [],
   "source": [
    "#proposé par Charbel Farah \n",
    "\n",
    "def majuscules_mot(fsource, fdestination):\n",
    "    space = True\n",
    "    s = ''\n",
    "    for word in fsource.read():\n",
    "        if word == \" \" or word == '\\n':\n",
    "            s = s + word\n",
    "            space = True\n",
    "        elif space == True:\n",
    "            s = s + word.capitalize()\n",
    "            space = False\n",
    "        elif space == False:\n",
    "              s += word\n",
    "    fdestination.write(s)\n",
    "\n",
    "import os\n",
    "os.chdir(\"C:\\\\Users\\\\User\\\\Documents\\\\Fichiers1\")       \n",
    "with open(\"fichier1.txt\",\"r\") as fsource:\n",
    "    with open(\"fichier2.txt\",\"w\") as fdestination:\n",
    "        majuscules_mot(fsource,fdestination)        "
   ]
  },
  {
   "cell_type": "markdown",
   "metadata": {},
   "source": [
    "Exercice 5 : Ecrire une fonction qui permet d'écrire une matrice dans un fichier texte. Ecrire une autre fonction pour lire ce fichier et afficher la matrice.\n"
   ]
  },
  {
   "cell_type": "code",
   "execution_count": null,
   "metadata": {},
   "outputs": [],
   "source": [
    "def ecrireMatrice(M,f):\n",
    "    for i in range(len(M)):\n",
    "        for j in range(len(M[0])):\n",
    "            f.write(str(M[i][j])+\"\\t\")\n",
    "        f.write(\"\\n\")            \n",
    "\n",
    "M=[[1,2,3],[1,2,3],[1,2,3],[1,2,3]]\n",
    "import os\n",
    "os.chdir(\"C:\\\\Users\\\\User\\\\Documents\\\\Fichiers1\")       \n",
    "with open(\"fichierMatrice.txt\",\"w\") as f:\n",
    "    ecrireMatrice(M,f)"
   ]
  },
  {
   "cell_type": "code",
   "execution_count": null,
   "metadata": {},
   "outputs": [],
   "source": [
    "def lireMatrice(f):\n",
    "    M=[]\n",
    "    for line in f:\n",
    "        L=[]\n",
    "        liste=line.split()\n",
    "        for elt in liste:\n",
    "            L.append(float(elt))\n",
    "        M.append(L)    \n",
    "    return M\n",
    "\n",
    "import os\n",
    "os.chdir(\"C:\\\\Users\\\\User\\\\Documents\\\\Fichiers1\")       \n",
    "with open(\"fichierMatrice.txt\",\"r\") as f:\n",
    "    M=lireMatrice(f)\n",
    "print(M)    "
   ]
  },
  {
   "cell_type": "markdown",
   "metadata": {},
   "source": [
    "\n"
   ]
  },
  {
   "cell_type": "markdown",
   "metadata": {},
   "source": [
    "Autres fonctions du module os :\n",
    "- os.listdir(path) : permet de retourner dans une liste la liste des fichiers et sous dossiers contenu dans le dossier dont le chemin d'accès est donné par path.\n",
    "- os.listdir(): permet de retourner dans une liste le contenu en fichier et sous dossiers du répertoire courant\n",
    "- os.listdir(\".\"): permet de retourner dans une liste le contenu en fichier et sous dossiers du répertoire courant\n",
    "- os.listdir(\"..\"):permet de retourner dans une liste le contenu en fichier et sous dossiers du répertoire parent\n",
    "- os.walk(\".\"): permet de retourner une liste de tous les fichiers du repertoire courant et des sous-repertpoires "
   ]
  },
  {
   "cell_type": "code",
   "execution_count": null,
   "metadata": {},
   "outputs": [],
   "source": [
    "import os\n",
    "for root, dirs, files in os.walk(\".\"):\n",
    "   for name in files:\n",
    "      print(os.path.join(root, name))"
   ]
  },
  {
   "cell_type": "code",
   "execution_count": null,
   "metadata": {},
   "outputs": [],
   "source": []
  }
 ],
 "metadata": {
  "kernelspec": {
   "display_name": "Python 3",
   "language": "python",
   "name": "python3"
  },
  "language_info": {
   "codemirror_mode": {
    "name": "ipython",
    "version": 3
   },
   "file_extension": ".py",
   "mimetype": "text/x-python",
   "name": "python",
   "nbconvert_exporter": "python",
   "pygments_lexer": "ipython3",
   "version": "3.8.2"
  }
 },
 "nbformat": 4,
 "nbformat_minor": 4
}
