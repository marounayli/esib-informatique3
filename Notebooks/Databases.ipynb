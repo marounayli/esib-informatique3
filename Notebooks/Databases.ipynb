{
 "cells": [
  {
   "cell_type": "code",
   "execution_count": null,
   "metadata": {},
   "outputs": [],
   "source": []
  },
  {
   "cell_type": "markdown",
   "metadata": {},
   "source": [
    "# Introduction to relational databases and integration with python"
   ]
  },
  {
   "cell_type": "markdown",
   "metadata": {},
   "source": [
    "## What are relational databases \n",
    "\n",
    "As the term suggests relational databases are first and foremost databases.\n",
    "\n",
    "Without technical knowledge, one could define a database as an abstract space to store and fetch data\n",
    "\n",
    "Formally, a database is defined as a collection of structured information that has a specific querying language for both READ and WRITE instructions.\n",
    "\n",
    "\n",
    "Since the information inside a database is structured, that means it follows a certain schema, plan, or method of design and implementation.\n",
    "\n",
    "Best practices in the lates 1950s to the 1970s led to the creation of a formal mathematical way to design a database.\n",
    "\n",
    "That model called <b> the relational model </b> is the product of the mathematical concept known as relational algebra, wich uses algebraic structures to define relationships and also provides a query language to read and update the data.\n",
    "\n",
    "Relational algebra was founded by [Edgard F. Codd](https://en.wikipedia.org/wiki/Edgar_F._Codd)\n",
    "\n",
    "In this course, we will not be tackling the details of relational algebra, as there will be a course you will attend (if you're a CCE major) that will provide deep understanding of this concept.\n",
    "\n",
    "If you want to learn more about the mathematics behind the relational model you can read the following books:\n",
    "\n",
    "<ul>\n",
    "    <li> Database Design and Relational Theory - C.J. Date\n",
    "    <li> Usage-Driven Database Desgin - George Tillman\n",
    "    <li> Theory of relational Databases - David Maier\n",
    "</ul>\n",
    "  "
   ]
  },
  {
   "cell_type": "markdown",
   "metadata": {},
   "source": [
    "## Setting up the relational database - MySQL\n",
    "\n",
    "A RDMS (relational database management system) consists generally of 3 major components:\n",
    "\n",
    "<ul>\n",
    "    <li> Database server (mysql in this case)\n",
    "    <li> Database client (mysql workbench, datagrip, CLI, many more...)\n",
    "    <li> Query language (SQL - MySQL customized)\n",
    "</ul>"
   ]
  },
  {
   "cell_type": "code",
   "execution_count": null,
   "metadata": {},
   "outputs": [],
   "source": []
  }
 ],
 "metadata": {
  "kernelspec": {
   "display_name": "Python 3",
   "language": "python",
   "name": "python3"
  },
  "language_info": {
   "codemirror_mode": {
    "name": "ipython",
    "version": 3
   },
   "file_extension": ".py",
   "mimetype": "text/x-python",
   "name": "python",
   "nbconvert_exporter": "python",
   "pygments_lexer": "ipython3",
   "version": "3.7.3"
  }
 },
 "nbformat": 4,
 "nbformat_minor": 2
}
